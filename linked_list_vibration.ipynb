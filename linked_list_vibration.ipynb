{
  "nbformat": 4,
  "nbformat_minor": 0,
  "metadata": {
    "colab": {
      "provenance": [],
      "authorship_tag": "ABX9TyNsVklfvYOUmGAWZ2loUmGA",
      "include_colab_link": true
    },
    "kernelspec": {
      "name": "python3",
      "display_name": "Python 3"
    },
    "language_info": {
      "name": "python"
    }
  },
  "cells": [
    {
      "cell_type": "markdown",
      "metadata": {
        "id": "view-in-github",
        "colab_type": "text"
      },
      "source": [
        "<a href=\"https://colab.research.google.com/github/WilliamCetina/ProgamacionAvanzada/blob/main/linked_list_vibration.ipynb\" target=\"_parent\"><img src=\"https://colab.research.google.com/assets/colab-badge.svg\" alt=\"Open In Colab\"/></a>"
      ]
    },
    {
      "cell_type": "markdown",
      "source": [
        "Supongamos que estamos registrando las vibraciones obtenidas de un sensor, estamos recopilando tiempo y amplitud, para ello, el sensor recibira el tiempo con el formato YYYYMMDD para poder buscar de manera rápida su locación, si la fecha que se ingresa es la misma, no se agrega, para borrar solo se hara por fecha de subida\n",
        "Existen funciones para buscar fecha de x magnitud y magnitud en x fecha"
      ],
      "metadata": {
        "id": "boTw-SwCVbJJ"
      }
    },
    {
      "cell_type": "markdown",
      "source": [
        "INICIALIZACION:"
      ],
      "metadata": {
        "id": "YLCLs2daXiUZ"
      }
    },
    {
      "cell_type": "code",
      "source": [
        "class Node:\n",
        "    def __init__(self, time, amplitude):\n",
        "        self.time = time\n",
        "        self.amplitude = amplitude\n",
        "        self.next = None\n",
        "\n",
        "\n",
        "class LinkedList:\n",
        "    def __init__(self):\n",
        "        self.head = None\n",
        "\n",
        "    def __repr__(self):\n",
        "        return f'LinkedList({repr(self.head)})'"
      ],
      "metadata": {
        "id": "ghUv6gtAVhps"
      },
      "execution_count": null,
      "outputs": []
    },
    {
      "cell_type": "markdown",
      "source": [
        "FUNCIONES COMPLEMENTARIAS:"
      ],
      "metadata": {
        "id": "mJAXHoU9XlcH"
      }
    },
    {
      "cell_type": "code",
      "source": [
        "def addSignal(t, node):\n",
        "  if t.head is None:\n",
        "    t.head = node\n",
        "    return\n",
        "  currentNode = t.head\n",
        "  while currentNode.next is not None:\n",
        "    if currentNode.next.time == node.time:\n",
        "      raise ValueError('Time recorded already')\n",
        "    if currentNode.next.time > node.time:\n",
        "      node.next = currentNode.next\n",
        "      currentNode.next = node\n",
        "      return\n",
        "    currentNode.next = node\n",
        "\n",
        "def deleteSignal(t, time):\n",
        "    if t.head is None:\n",
        "      raise ValueError('Records empty')\n",
        "    if t.head.time == time:\n",
        "      if t.head.next is None:\n",
        "        t.head = None\n",
        "      else:\n",
        "        t.head = t.head.next\n",
        "      return\n",
        "    currentNode = t.head\n",
        "    while currentNode.next is not None:\n",
        "      if currentNode.next.time == time:\n",
        "        if currentNode.next.next is None:\n",
        "          currentNode.next = None\n",
        "        else:\n",
        "          currentNode.next = currentNode.next.next\n",
        "        return\n",
        "      currentNode = currentNode.next\n",
        "    raise ValueError('Record not founded')\n"
      ],
      "metadata": {
        "id": "DWGg8GPOX87y"
      },
      "execution_count": null,
      "outputs": []
    },
    {
      "cell_type": "markdown",
      "source": [
        "FUNCIONES DE BUSQUEDA"
      ],
      "metadata": {
        "id": "tG7WGOIEbp4C"
      }
    },
    {
      "cell_type": "code",
      "source": [
        "def findByAmplitude(t, amplitude):\n",
        "  currentNode = t.head\n",
        "  while currentNode is not None:\n",
        "      if currentNode.amplitude == amplitude:\n",
        "        print(f\"Encontrado: t={currentNode.time}, A={currentNode.amplitude}\")\n",
        "        return currentNode\n",
        "      currentNode = currentNode.next\n",
        "  raise ValueError(f\"No record found with amplitude = {amplitude}\")\n",
        "\n",
        "def findByTime(t, time):\n",
        "  currentNode = t.head\n",
        "  while currentNode is not None:\n",
        "    if currentNode.time == time:\n",
        "        print(f\"Encontrado: t={currentNode.time}, A={currentNode.amplitude}\")\n",
        "        return currentNode\n",
        "    currentNode = currentNode.next\n",
        "  raise ValueError(f\"No record found with time = {time}\")"
      ],
      "metadata": {
        "id": "AbYvcR_Tbswy"
      },
      "execution_count": null,
      "outputs": []
    },
    {
      "cell_type": "markdown",
      "source": [
        "INICIALIZACIÓN"
      ],
      "metadata": {
        "id": "kFJNcLgLcDZy"
      }
    },
    {
      "cell_type": "code",
      "source": [
        "vib_List = LinkedList()"
      ],
      "metadata": {
        "id": "vM5IdoyjcIl6"
      },
      "execution_count": null,
      "outputs": []
    },
    {
      "cell_type": "markdown",
      "source": [
        "AGREGAR NODOs"
      ],
      "metadata": {
        "id": "ONvgmBcqcXI8"
      }
    },
    {
      "cell_type": "code",
      "source": [
        "newNode = Node(20250820, 15)\n",
        "addSignal(vib_List, newNode)\n",
        "vib_List"
      ],
      "metadata": {
        "colab": {
          "base_uri": "https://localhost:8080/"
        },
        "id": "hBObAo1LcZQU",
        "outputId": "cb326050-1af8-43a6-c280-e0b7494d4e3c"
      },
      "execution_count": null,
      "outputs": [
        {
          "output_type": "execute_result",
          "data": {
            "text/plain": [
              "LinkedList(<__main__.Node object at 0x7f9242ea1580>)"
            ]
          },
          "metadata": {},
          "execution_count": 29
        }
      ]
    },
    {
      "cell_type": "code",
      "source": [
        "newNode1 = Node(20250820, 15)\n",
        "addSignal(vib_List, newNode1)\n",
        "newNode2 = Node(20250821, 16)\n",
        "addSignal(vib_List, newNode2)\n",
        "newNode3 = Node(20250819, 17)\n",
        "addSignal(vib_List, newNode3)\n",
        "newNode4 = Node(20260820, 13)\n",
        "addSignal(vib_List, newNode4)\n",
        "newNode5 = Node(20250920, 14)\n",
        "addSignal(vib_List, newNode5)\n",
        "newNode6 = Node(20250921, 20)\n",
        "addSignal(vib_List, newNode6)\n",
        "vib_List"
      ],
      "metadata": {
        "colab": {
          "base_uri": "https://localhost:8080/"
        },
        "id": "Odz2PRWcdNqd",
        "outputId": "83265b1a-ca96-4f93-94cd-5500c3ee1e47"
      },
      "execution_count": null,
      "outputs": [
        {
          "output_type": "execute_result",
          "data": {
            "text/plain": [
              "LinkedList(<__main__.Node object at 0x7f9241c05c40>)"
            ]
          },
          "metadata": {},
          "execution_count": 34
        }
      ]
    },
    {
      "cell_type": "markdown",
      "source": [
        "ELIMINAR NODOS"
      ],
      "metadata": {
        "id": "ZlXwtudcdRPq"
      }
    },
    {
      "cell_type": "code",
      "source": [
        "deleteSignal(vib_List, 20250820)\n",
        "vib_List"
      ],
      "metadata": {
        "colab": {
          "base_uri": "https://localhost:8080/"
        },
        "id": "15cUaQiBczb9",
        "outputId": "9fdeb457-1ac0-4713-abae-eafad6bcfa6c"
      },
      "execution_count": null,
      "outputs": [
        {
          "output_type": "execute_result",
          "data": {
            "text/plain": [
              "LinkedList(None)"
            ]
          },
          "metadata": {},
          "execution_count": 37
        }
      ]
    },
    {
      "cell_type": "markdown",
      "source": [
        "FUNCIONES DE BUSQUEDA"
      ],
      "metadata": {
        "id": "KT62hbggdCFA"
      }
    },
    {
      "cell_type": "code",
      "source": [
        "findByAmplitude(vib_List, 15)"
      ],
      "metadata": {
        "colab": {
          "base_uri": "https://localhost:8080/"
        },
        "id": "rFdxffxwc__c",
        "outputId": "d6b94cc2-1de1-440a-80e1-a837128bb25f"
      },
      "execution_count": null,
      "outputs": [
        {
          "output_type": "stream",
          "name": "stdout",
          "text": [
            "Encontrado: t=20250820, A=15\n"
          ]
        },
        {
          "output_type": "execute_result",
          "data": {
            "text/plain": [
              "<__main__.Node at 0x7f9241c05c40>"
            ]
          },
          "metadata": {},
          "execution_count": 35
        }
      ]
    },
    {
      "cell_type": "code",
      "source": [
        "findByTime(vib_List, 20250820)"
      ],
      "metadata": {
        "colab": {
          "base_uri": "https://localhost:8080/"
        },
        "id": "YYXksGfedH5M",
        "outputId": "dc71c681-e5df-4c3f-82f9-c26dd924e97e"
      },
      "execution_count": null,
      "outputs": [
        {
          "output_type": "stream",
          "name": "stdout",
          "text": [
            "Encontrado: t=20250820, A=15\n"
          ]
        },
        {
          "output_type": "execute_result",
          "data": {
            "text/plain": [
              "<__main__.Node at 0x7f9241c05c40>"
            ]
          },
          "metadata": {},
          "execution_count": 36
        }
      ]
    }
  ]
}